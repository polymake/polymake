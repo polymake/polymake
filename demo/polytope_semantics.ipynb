{
 "cells": [
  {
   "cell_type": "markdown",
   "metadata": {},
   "source": [
    "## Semantics of Cones and Polytopes\n",
    "\n",
    "### General Remarks\n",
    "\n",
    "The general semantics of a [big object](https://polymake.org/doku.php/user_guide/tutorials/properties#objects) in polymake is as follows: a list of properties describes an equivalence class of mathematical objects.  Often this equivalence class consists of a single element, but this is not necessary.\n",
    "\n",
    "As an example an object of class [Polytope](https://polymake.org/doku.php/documentation/latest/polytope/polytope) defined by `VERTICES` gives such a single element equivalence class.  A typical example of a class with several elements is a polytope given combinatorially, in terms of `VERTICES_IN_FACETS`.  An extreme case would be a Polytope object defined by `VOLUME` only, defining the set of polytopes of all possible dimensions which happen to have that volume.  While this  is not very useful, a similar example would be a Polytope object defined by `F_VECTOR` only.  From this it makes sense to derive, e.g., `N_VERTICES` or `H_VECTOR`.\n",
    "\n",
    "All big objects are immutable as mathematical objects.  This means it is possible to add more properties, but only consistent ones.  Ideally, these properties pre-exist (since they are logically derived from the input description of the object), and the rules only make them explicit. If a user asks for a property which cannot be derived, this property is set to `undef`.  This occurs, e.g., if one asks for the `VERTICES` of a combinatorially defined polytope.\n",
    "\n",
    "To view the list properties that currently constitute your object, you can use the `properties` method."
   ]
  },
  {
   "cell_type": "code",
   "execution_count": 1,
   "metadata": {},
   "outputs": [],
   "source": [
    "$p = new Polytope(POINTS=>[[1,2],[1,3]]);"
   ]
  },
  {
   "cell_type": "markdown",
   "metadata": {},
   "source": [
    "    \n"
   ]
  },
  {
   "cell_type": "code",
   "execution_count": 2,
   "metadata": {},
   "outputs": [
    {
     "data": {
      "text/plain": [
       "name: p\n",
       "type: Polytope<Rational>\n",
       "\n",
       "CONE_AMBIENT_DIM\n",
       "2\n",
       "\n",
       "POINTS\n",
       "1 2\n",
       "1 3\n",
       "\n"
      ]
     },
     "execution_count": 2,
     "metadata": {},
     "output_type": "execute_result"
    }
   ],
   "source": [
    "$p->properties;"
   ]
  },
  {
   "cell_type": "markdown",
   "metadata": {},
   "source": [
    "## Objects of type `Polytope`\n",
    "\n",
    "Polytope theory is nice because this is where combinatorics meets metric geometry.  For mathematical software dealing with such objects it is necessary to get the semantics straight. Below we describe some pitfalls.\n",
    "\n",
    "### With coordinates: Geometry\n",
    "\n",
    "Being non-empty is recorded in the property `FEASIBLE`. This is `true` if and only if the polytope is not empty."
   ]
  },
  {
   "cell_type": "code",
   "execution_count": 3,
   "metadata": {},
   "outputs": [
    {
     "data": {
      "text/plain": [
       "true"
      ]
     },
     "execution_count": 3,
     "metadata": {},
     "output_type": "execute_result"
    }
   ],
   "source": [
    "print cube(3)->FEASIBLE;"
   ]
  },
  {
   "cell_type": "markdown",
   "metadata": {},
   "source": [
    "\n",
    "A non-empty polytope in $\\mathbb R^n$ is encoded as its homogenization in $\\mathbb R^{n+1}$.  Hence, any non-empty polytope has at least one facet (which may be the far hyperplane $[1,0,0,...,0]$) and one vertex. \n",
    "\n",
    "\n",
    "### Without coordinates: Combinatorics\n",
    "\n",
    "`VERTICES_IN_FACETS` always describes the combinatorics of a bounded polytope: this is any polytope which is projectively equivalent to the polyhedron defined by `VERTICES` or `POINTS` or dually modulo its `LINEALITY_SPACE`.\n",
    "\n",
    "Each property must clearly specify if it depends on the geometry or only on the combinatorics.\n",
    "\n",
    "### Special Cases\n",
    "\n",
    "Most of what comes below is a consequence of the design decisions explained above.\n",
    "\n",
    "#### Empty polytopes\n",
    "\n",
    "With the introduction of the `Cone` class and redefining `Polytope` as a derived class (in version 2.9.10) this raises the question of how to deal with empty polytopes.\n",
    "This is a bit subtle as the cone over an empty polytope does not have a canonical definition.  Most text books hence exclude this case.  For them a polytope is never empty.  There was a time when this was also polymake's point of view (until version 2.3).\n",
    "\n",
    "However, this was changed for the reason that often people generate systems of inequalities and then look at the feasible region.  Most of the time they obtain a polytope and proceed, but sometimes it fails, and the region is empty.  It is therefore necessary to give a definition of the empty polytope (geometrically) which is consistent:\n",
    "\n",
    "An empty polytope is recognized by `FEASIBLE == false`.  Such a polytope is required to have `VERTICES` and `FACETS` empty.\n",
    "\n",
    "    \n"
   ]
  },
  {
   "cell_type": "code",
   "execution_count": 4,
   "metadata": {},
   "outputs": [
    {
     "data": {
      "text/plain": [
       "false"
      ]
     },
     "execution_count": 4,
     "metadata": {},
     "output_type": "execute_result"
    }
   ],
   "source": [
    "$e = new Polytope(POINTS=>[]);\n",
    "print $e->FEASIBLE;"
   ]
  },
  {
   "cell_type": "markdown",
   "metadata": {},
   "source": [
    "    \n"
   ]
  },
  {
   "cell_type": "code",
   "execution_count": 5,
   "metadata": {},
   "outputs": [],
   "source": [
    "print $e->FACETS;"
   ]
  },
  {
   "cell_type": "markdown",
   "metadata": {},
   "source": [
    "This is totally different from having `VERTICES` or `FACETS` undefined (see above).\n",
    "\n",
    "    \n"
   ]
  },
  {
   "cell_type": "code",
   "execution_count": 6,
   "metadata": {},
   "outputs": [],
   "source": [
    "$nc = new Polytope(VERTICES_IN_FACETS => cube(2)->VERTICES_IN_FACETS);"
   ]
  },
  {
   "cell_type": "markdown",
   "metadata": {},
   "source": [
    "#### Zero-dimensional polytopes\n",
    "\n",
    "A zero-dimensional polytope is a single point.  In our model it has one vertex and one facet (the far hyperplane).\n",
    "\n",
    "    \n"
   ]
  },
  {
   "cell_type": "code",
   "execution_count": 7,
   "metadata": {},
   "outputs": [],
   "source": [
    "$z = new Polytope(POINTS=>[[1,2,3]]);"
   ]
  },
  {
   "cell_type": "markdown",
   "metadata": {},
   "source": [
    "    \n"
   ]
  },
  {
   "cell_type": "code",
   "execution_count": 8,
   "metadata": {},
   "outputs": [
    {
     "data": {
      "text/plain": [
       "1 0 0\n"
      ]
     },
     "execution_count": 8,
     "metadata": {},
     "output_type": "execute_result"
    },
    {
     "data": {
      "text/html": [
       "<details><summary><pre style=\"display:inline\"><small>Click here for additional output</small></pre></summary>\n",
       "<pre>\n",
       "polymake: used package lrs\n",
       "  Implementation of the reverse search algorithm of Avis and Fukuda.\n",
       "  Copyright by David Avis.\n",
       "  http://cgm.cs.mcgill.ca/~avis/C/lrs.html\n",
       "\n",
       "</pre>\n",
       "</details>\n"
      ]
     },
     "metadata": {},
     "output_type": "display_data"
    }
   ],
   "source": [
    "print $z->FACETS;"
   ]
  },
  {
   "cell_type": "markdown",
   "metadata": {},
   "source": [
    "\n",
    "`VERTICES_IN_FACETS` is a 1-by-1 matrix with a zero entry.  This means that the single vertex does *not* lie on the single facet.\n",
    "\n",
    "    \n"
   ]
  },
  {
   "cell_type": "code",
   "execution_count": 9,
   "metadata": {},
   "outputs": [
    {
     "data": {
      "text/plain": [
       "{}\n"
      ]
     },
     "execution_count": 9,
     "metadata": {},
     "output_type": "execute_result"
    }
   ],
   "source": [
    "print $z->VERTICES_IN_FACETS;"
   ]
  },
  {
   "cell_type": "markdown",
   "metadata": {},
   "source": [
    "\n",
    "Such a polytope is both simple and simplicial, i.e. it is a simplex.\n",
    "\n",
    "    \n"
   ]
  },
  {
   "cell_type": "code",
   "execution_count": 10,
   "metadata": {},
   "outputs": [
    {
     "data": {
      "text/plain": [
       "true,true"
      ]
     },
     "execution_count": 10,
     "metadata": {},
     "output_type": "execute_result"
    }
   ],
   "source": [
    "print $z->SIMPLICIAL,\",\",$z->SIMPLE;"
   ]
  },
  {
   "cell_type": "markdown",
   "metadata": {},
   "source": [
    "\n",
    "#### Zero-dimensional fans\n",
    "\n",
    "A zero-dimensional fan can e.g. be defined via\n",
    "\n",
    "    \n"
   ]
  },
  {
   "cell_type": "code",
   "execution_count": 11,
   "metadata": {},
   "outputs": [],
   "source": [
    "$f = new fan::PolyhedralFan(RAYS=>[], MAXIMAL_CONES=>[[]]);"
   ]
  },
  {
   "cell_type": "markdown",
   "metadata": {},
   "source": [
    "\n",
    "### Summing Up\n",
    "\n",
    "For instance we have four possibilities which can occur for `VERTICES`. The property\n",
    "\n",
    "*  does not exist (it is not listed in `properties`): This basically means that the property is not derived/calculated, yet.\n",
    "\n",
    "*  exists and is set to `undef`: Polymake is not able to derive this property with the given properties. The polytope may be empty or not.\n",
    "\n",
    "*  exists and is empty: So the polytope is empty.\n",
    "\n",
    "*  exists and is neither set to `undef` nor is empty: Our polytope is not empty and the property returns what you expect.\n",
    "\n"
   ]
  }
 ],
 "metadata": {
  "kernelspec": {
   "display_name": "polymake-4.6",
   "language": "polymake",
   "name": "polymake"
  },
  "language_info": {
   "codemirror_mode": "perl",
   "file_extension": ".pl",
   "mimetype": "text/x-polymake",
   "name": "polymake"
  }
 },
 "nbformat": 4,
 "nbformat_minor": 2
}
