{
 "cells": [
  {
   "cell_type": "markdown",
   "metadata": {},
   "source": [
    "## A Counter-example to an integer analog to Caratheodory's Theorem\n",
    "\n",
    "### The construction\n",
    "\n",
    "This tutorial describes the construction of a specific rational cone in six dimensions which is due to:\n",
    "\n",
    "*  Bruns, Winfried; Gubeladze, Joseph; Henk, Martin; Martin, Alexander; Weismantel, Robert: A counterexample to an integer analogue of Carathéodory's theorem.  J. Reine Angew. Math. 510 (1999), 179-185.\n",
    "\n",
    "The rows of this matrix describe a cone *C*:\n",
    "\n",
    "    \n"
   ]
  },
  {
   "cell_type": "code",
   "execution_count": 1,
   "metadata": {},
   "outputs": [],
   "source": [
    "$M = new Matrix<Rational>([[0,1,0,0,0,0],\n",
    "[0,0,1,0,0,0],\n",
    "[0,0,0,1,0,0],\n",
    "[0,0,0,0,1,0],\n",
    "[0,0,0,0,0,1],\n",
    "[1,0,2,1,1,2],\n",
    "[1,2,0,2,1,1],\n",
    "[1,1,2,0,2,1],\n",
    "[1,1,1,2,0,2],\n",
    "[1,2,1,1,2,0]]);\n",
    "$C=new Polytope<Rational>(POINTS=>$M);"
   ]
  },
  {
   "cell_type": "markdown",
   "metadata": {},
   "source": [
    "\n",
    "\n",
    "From\n",
    "\n",
    "    \n"
   ]
  },
  {
   "cell_type": "code",
   "execution_count": 2,
   "metadata": {},
   "outputs": [
    {
     "data": {
      "text/plain": [
       "0 0 0 0 0 1\n",
       "0 0 0 0 1 0\n",
       "0 0 0 1 0 0\n",
       "0 0 1 0 0 0\n",
       "0 1 0 0 0 0\n",
       "1 0 2 1 1 2\n",
       "1 1 1 2 0 2\n",
       "1 1 2 0 2 1\n",
       "1 2 0 2 1 1\n",
       "1 2 1 1 2 0\n"
      ]
     },
     "execution_count": 2,
     "metadata": {},
     "output_type": "execute_result"
    },
    {
     "data": {
      "text/html": [
       "<details><summary><pre style=\"display:inline\"><small>Click here for additional output</small></pre></summary>\n",
       "<pre>\n",
       "polymake: used package cdd\n",
       "  cddlib\n",
       "  Implementation of the double description method of Motzkin et al.\n",
       "  Copyright by Komei Fukuda.\n",
       "  http://www-oldurls.inf.ethz.ch/personal/fukudak/cdd_home/\n",
       "\n",
       "polymake: used package libnormaliz\n",
       "  [[wiki:external_software#Normaliz]] is a tool for computations in affine monoids, vector configurations, lattice polytopes, and rational cones.\n",
       "  Copyright by Winfried Bruns, Bogdan Ichim, Christof Soeger.\n",
       "  http://www.math.uos.de/normaliz/\n",
       "\n",
       "</pre>\n",
       "</details>\n"
      ]
     },
     "metadata": {},
     "output_type": "display_data"
    }
   ],
   "source": [
    "print $C->HILBERT_BASIS;"
   ]
  },
  {
   "cell_type": "markdown",
   "metadata": {},
   "source": [
    "one can see that the given generators of *C* form a Hilbert basis.  Now we consider one particular point *x*.  The output of the second command (all coefficients positive) shows that *x* is contained in the interior of *C*.\n",
    "\n",
    "    \n"
   ]
  },
  {
   "cell_type": "code",
   "execution_count": 3,
   "metadata": {},
   "outputs": [
    {
     "data": {
      "text/plain": [
       "17 13 13 17 13 15/7 19/8 17 13 13 17 15/7 19/8 9 4 4 4 4 4 17 19/8 15/7 19/8 15/7 19/8 11/6 15/7"
      ]
     },
     "execution_count": 3,
     "metadata": {},
     "output_type": "execute_result"
    },
    {
     "data": {
      "text/html": [
       "<details><summary><pre style=\"display:inline\"><small>Click here for additional output</small></pre></summary>\n",
       "<pre>\n",
       "polymake: used package lrs\n",
       "  Implementation of the reverse search algorithm of Avis and Fukuda.\n",
       "  Copyright by David Avis.\n",
       "  http://cgm.cs.mcgill.ca/~avis/C/lrs.html\n",
       "\n",
       "</pre>\n",
       "</details>\n"
      ]
     },
     "metadata": {},
     "output_type": "display_data"
    }
   ],
   "source": [
    "$x=new Vector<Rational>([9,13,13,13,13,13]);\n",
    "print $C->FACETS * $x;"
   ]
  },
  {
   "cell_type": "markdown",
   "metadata": {},
   "source": [
    "\n",
    "The following loop iterates over all invertible 6x6 submatrices of *M* and computes the unique representation of *x* as a linear combination of the rows of the submatrix.  The output (suppressed as it is too long) shows that each such linear combination requires at least one negative or one non-integral coefficient.\n",
    "\n",
    "    \n"
   ]
  },
  {
   "cell_type": "code",
   "execution_count": 4,
   "metadata": {},
   "outputs": [
    {
     "data": {
      "text/plain": [
       "13 -5 4 4 -5 9\n",
       "-5 13 -5 4 4 9\n",
       "4 -5 13 -5 4 9\n",
       "4 4 -5 13 -5 9\n",
       "-5 4 4 -5 13 9\n",
       "3 5 -1 4 4 5\n",
       "8 -5 9 -1 4 5\n",
       "8 -5/2 4 3/2 13/2 5/2\n",
       "-1 9 -5 8 5 4\n",
       "-5 17 -9 8 13 -4\n",
       "4 -1 5 3 5 4\n",
       "8 -9 17 -5 13 -4\n",
       "3/2 4 -5/2 8 13/2 5/2\n",
       "9 -5 8 -1 5 4\n",
       "17 -9 8 -5 13 -4\n",
       "5 -1 4 3 5 4\n",
       "-1 5 3 4 5 4\n",
       "-9 17 -5 8 13 -4\n",
       "-5 9 -1 8 5 4\n",
       "4 -5/2 8 3/2 13/2 5/2\n",
       "-5/2 4 3/2 8 5/2 13/2\n",
       "7 -3 7 4 1 4\n",
       "7 1 3 8 5 -4\n",
       "11 -7 7 8 -3 4\n",
       "7 -4 8 3 5 1\n",
       "8 -4 7 5 3 1\n",
       "19/2 -4 11/2 8 -3/2 5/2\n",
       "7 -7 11 -3 8 4\n",
       "3 1 7 5 8 -4\n",
       "11/2 -4 19/2 8 5/2 -3/2\n",
       "5 3 4 -1 5 4\n",
       "17 -5 8 -9 13 -4\n",
       "9 -1 8 -5 5 4\n",
       "-5/2 8 3/2 4 13/2 5/2\n",
       "-5 8 -1 9 4 5\n",
       "4 3/2 8 -5/2 5/2 13/2\n",
       "-9 8 -5 17 -4 13\n",
       "-1 4 3 5 4 5\n",
       "7/2 4 7/2 4 9/2 1/2\n",
       "4 4 3 5 5 -1\n",
       "4 7/2 7/2 9/2 4 1/2\n",
       "-1 4 8 -5 5 9\n",
       "8 -1/2 7/2 17/2 -4 9/2\n",
       "4 3/2 11/2 5/2 4 5/2\n",
       "3/2 4 11/2 5/2 5/2 4\n",
       "-1/2 8 7/2 17/2 9/2 -4\n",
       "4 -1 8 -5 9 5\n",
       "7/3 7/3 19/3 5/3 17/3 5/3\n",
       "-7 11 7 -3 8 4\n",
       "1 7 3 5 8 -4\n",
       "-3 7 7 1 4 4\n",
       "1 3 7 5 -4 8\n",
       "-7 7 11 -3 4 8\n",
       "-4 19/2 11/2 8 5/2 -3/2\n",
       "-4 8 7 5 1 3\n",
       "-4 7 8 3 1 5\n",
       "-4 11/2 19/2 -3/2 5/2 8\n",
       "7 4 11 8 -3 -7\n",
       "4 7 8 11 -7 -3\n",
       "15 -4 19 -11 -7 8\n",
       "-4 15 19 8 -7 -11\n",
       "8 3/2 4 -5/2 13/2 5/2\n",
       "8 -1 9 -5 4 5\n",
       "3 4 -1 5 4 5\n",
       "3/2 8 -5/2 4 5/2 13/2\n",
       "8 -5 17 -9 -4 13\n",
       "-5 8 -9 17 -4 13\n",
       "4 3 5 -1 4 5\n",
       "-1 8 -5 9 4 5\n",
       "11/2 4 3/2 4 5/2 5/2\n",
       "8 4 -1 9 5 -5\n",
       "19/3 7/3 7/3 17/3 5/3 5/3\n",
       "3 4 4 -1 5 5\n",
       "8 -1 4 9 -5 5\n",
       "11/2 3/2 4 4 5/2 5/2\n",
       "7/2 4 7/2 1/2 9/2 4\n",
       "7/2 8 -1/2 9/2 17/2 -4\n",
       "7/2 -1/2 8 -4 17/2 9/2\n",
       "7/2 7/2 4 4 9/2 1/2\n",
       "4 11/2 3/2 5/2 5/2 4\n",
       "8 7/2 -1/2 17/2 9/2 -4\n",
       "4 7/2 7/2 9/2 1/2 4\n",
       "-1 8 4 -5 9 5\n",
       "4 3 4 5 -1 5\n",
       "7/2 7/2 4 4 1/2 9/2\n",
       "7/3 19/3 7/3 5/3 17/3 5/3\n",
       "4 8 -1 5 9 -5\n",
       "-1/2 7/2 8 -4 9/2 17/2\n",
       "3/2 11/2 4 4 5/2 5/2\n",
       "7 4 7 4 1 -3\n",
       "4 7 1 4 7 -3\n",
       "15/2 7/2 8 4 -7/2 1/2\n",
       "7/2 15/2 4 8 1/2 -7/2\n",
       "19/2 11/2 -4 8 5/2 -3/2\n",
       "8 7 -4 5 1 3\n",
       "11 7 -7 8 4 -3\n",
       "7 8 -4 3 1 5\n",
       "7 3 1 8 -4 5\n",
       "7 7 -3 4 4 1\n",
       "11/2 19/2 -4 -3/2 5/2 8\n",
       "3 7 1 -4 8 5\n",
       "7 11 -7 4 8 -3\n",
       "15/2 7/2 8 1/2 -7/2 4\n",
       "4 7 1 -3 7 4\n",
       "7 4 7 -3 1 4\n",
       "7/2 15/2 -7/2 1/2 8 4\n",
       "15 -4 19 8 -7 -11\n",
       "4 7 8 -3 -7 11\n",
       "7 4 11 -7 -3 8\n",
       "-4 15 -11 -7 8 19\n",
       "11 15 4 -7 -7 4\n",
       "8 -5/2 4 3/2 5/2 13/2\n",
       "-5 17 -9 8 -4 13\n",
       "8 -9 17 -5 -4 13\n",
       "3/2 4 -5/2 8 5/2 13/2\n",
       "3 5 -1 4 4 5\n",
       "8 -5 9 -1 4 5\n",
       "-1 9 -5 8 5 4\n",
       "4 -1 5 3 5 4\n",
       "11 -7 7 4 8 -3\n",
       "8 -4 7 1 5 3\n",
       "19/2 -4 11/2 5/2 8 -3/2\n",
       "3 1 7 -4 5 8\n",
       "11/2 -4 19/2 -3/2 8 5/2\n",
       "7 -3 7 4 1 4\n",
       "7 1 3 8 5 -4\n",
       "7 -4 8 3 5 1\n",
       "7 -7 11 -3 8 4\n",
       "4 7/2 7/2 1/2 9/2 4\n",
       "8 -1/2 7/2 9/2 17/2 -4\n",
       "4 3/2 11/2 5/2 5/2 4\n",
       "-1/2 8 7/2 -4 17/2 9/2\n",
       "4 -1 8 5 -5 9\n",
       "7/3 7/3 19/3 5/3 5/3 17/3\n",
       "7/2 4 7/2 4 9/2 1/2\n",
       "4 4 3 5 5 -1\n",
       "-1 4 8 -5 5 9\n",
       "3/2 4 11/2 5/2 5/2 4\n",
       "4 7 -3 8 11 -7\n",
       "15 -4 8 19 -11 -7\n",
       "-4 15 -11 19 8 -7\n",
       "7 4 11 8 -3 -7\n",
       "19/3 7/3 7/3 5/3 17/3 5/3\n",
       "8 -1 4 5 9 -5\n",
       "11/2 3/2 4 5/2 4 5/2\n",
       "7/2 8 -1/2 -4 9/2 17/2\n",
       "7/2 -1/2 8 9/2 -4 17/2\n",
       "7/2 7/2 4 1/2 4 9/2\n",
       "11/2 4 3/2 4 5/2 5/2\n",
       "8 4 -1 9 5 -5\n",
       "3 4 4 -1 5 5\n",
       "7/2 4 7/2 1/2 9/2 4\n",
       "4 7 -3 1 4 7\n",
       "15/2 7/2 1/2 8 4 -7/2\n",
       "7/2 15/2 -7/2 4 8 1/2\n",
       "7 4 7 4 1 -3\n",
       "15/2 7/2 4 8 1/2 -7/2\n",
       "4 7 4 1 -3 7\n",
       "7 4 4 7 -3 1\n",
       "7/2 15/2 4 -7/2 1/2 8\n",
       "11 4 15 4 -7 -7\n",
       "19/2 -4 11/2 -3/2 5/2 8\n",
       "11/2 -4 19/2 5/2 -3/2 8\n",
       "7 1 3 -4 8 5\n",
       "7 -4 8 1 3 5\n",
       "7 -7 11 4 -3 8\n",
       "11 -7 7 4 8 -3\n",
       "8 -4 7 1 5 3\n",
       "3 1 7 -4 5 8\n",
       "7 -3 7 4 1 4\n",
       "4 7 -7 -3 8 11\n",
       "15 -4 -7 8 19 -11\n",
       "-4 15 -7 -11 19 8\n",
       "7 4 -7 11 8 -3\n",
       "15/2 7/2 -7/2 1/2 8 4\n",
       "7/2 15/2 1/2 -7/2 4 8\n",
       "7 4 -3 7 4 1\n",
       "4 7 -3 1 4 7\n",
       "11 -7 4 15 4 -7\n",
       "15 -4 -11 -7 8 19\n",
       "-4 15 8 -7 -11 19\n",
       "7 4 -3 -7 11 8\n",
       "4 7 -7 -3 8 11\n",
       "11 -7 -7 4 15 4\n",
       "11 4 -7 -7 4 15\n"
      ]
     },
     "execution_count": 4,
     "metadata": {},
     "output_type": "execute_result"
    }
   ],
   "source": [
    "foreach (@{all_subsets_of_k(range(0,9),6)}) {\n",
    "  $B = $M->minor($_,All);\n",
    "  if (det($B)) {\n",
    "    print lin_solve(transpose($B),$x), \"\\n\";\n",
    "  }\n",
    "}"
   ]
  },
  {
   "cell_type": "markdown",
   "metadata": {},
   "source": [
    "\n",
    "This means that *x* cannot be represented as a non-negative linear combination of any six of the given generators of *C*.\n",
    "\n",
    "### Analyzing the combinatorics\n",
    "\n",
    "The following is taken from\n",
    "\n",
    "*  Michael Joswig, Benjamin Müller, and Andreas Paffenholz: `polymake` and lattice polytopes.  In Christian Krattenthaler, Volker Strehl and Manuel Kauers (eds.), Proceedings of the 21th International Conference on Formal Power Series and Algebraic Combinatoric, Hagenberg, Austria, 2009, pp. 493-504.\n",
    "\n",
    "    \n"
   ]
  },
  {
   "cell_type": "code",
   "execution_count": 5,
   "metadata": {},
   "outputs": [
    {
     "data": {
      "text/plain": [
       "10 50:1 3 4 5 7\n",
       "1:1 2 3 4 5\n",
       "2:0 1 2 3 9\n",
       "3:0 1 3 7 9\n",
       "4:0 1 3 4 7\n",
       "5:3 5 6 7 9\n",
       "6:3 4 5 6 7\n",
       "7:0 2 3 6 9\n",
       "8:0 2 3 4 6\n",
       "9:0 1 2 4 8\n",
       "10:0 2 4 6 8\n",
       "11:2 5 6 8 9\n",
       "12:2 3 5 6 9\n",
       "13:0 1 2 3 4\n",
       "14:1 2 3 5 7 9\n",
       "15:0 3 4 6 7 9\n",
       "16:0 1 2 6 8 9\n",
       "17:2 3 4 5 6 8\n",
       "18:0 1 4 5 7 8\n",
       "19:1 2 4 5 8\n",
       "20:0 1 7 8 9\n",
       "21:1 5 7 8 9\n",
       "22:1 2 5 8 9\n",
       "23:0 6 7 8 9\n",
       "24:0 4 6 7 8\n",
       "25:5 6 7 8 9\n",
       "26:4 5 6 7 8\n"
      ]
     },
     "execution_count": 5,
     "metadata": {},
     "output_type": "execute_result"
    }
   ],
   "source": [
    "print $C->N_VERTICES, \" \", $C->DIM;\n",
    "print rows_labeled($C->VERTICES_IN_FACETS);"
   ]
  },
  {
   "cell_type": "markdown",
   "metadata": {},
   "source": [
    "\n",
    "\n",
    "There are two disjoint facets covering all the vertices. Beware the numbering of facets depends on the convex hull algorithm employed.\n",
    "\n",
    "    \n"
   ]
  },
  {
   "cell_type": "code",
   "execution_count": 6,
   "metadata": {},
   "outputs": [
    {
     "data": {
      "text/plain": [
       "{0 2 3 4 6}{1 2 5 8 9}"
      ]
     },
     "execution_count": 6,
     "metadata": {},
     "output_type": "execute_result"
    }
   ],
   "source": [
    "print $C->VERTICES_IN_FACETS->[8];\n",
    "print $C->VERTICES_IN_FACETS->[22];"
   ]
  },
  {
   "cell_type": "markdown",
   "metadata": {},
   "source": [
    "\n",
    "\n",
    "    \n"
   ]
  },
  {
   "cell_type": "code",
   "execution_count": 7,
   "metadata": {},
   "outputs": [
    {
     "data": {
      "text/plain": [
       "0:0 1 0 0 0 0\n",
       "1:0 0 1 0 0 0\n",
       "2:0 0 0 1 0 0\n",
       "3:0 0 0 0 1 0\n",
       "4:0 0 0 0 0 1\n",
       "5:1 0 2 1 1 2\n",
       "6:1 2 0 2 1 1\n",
       "7:1 1 2 0 2 1\n",
       "8:1 1 1 2 0 2\n",
       "9:1 2 1 1 2 0\n"
      ]
     },
     "execution_count": 7,
     "metadata": {},
     "output_type": "execute_result"
    }
   ],
   "source": [
    "print rows_labeled($M);"
   ]
  },
  {
   "cell_type": "markdown",
   "metadata": {},
   "source": [
    "\n",
    "\n",
    "Here is another polytope which is somewhat similar but not quite the same.\n",
    "\n",
    "    \n"
   ]
  },
  {
   "cell_type": "code",
   "execution_count": 8,
   "metadata": {},
   "outputs": [
    {
     "data": {
      "text/plain": [
       "falsetrue"
      ]
     },
     "execution_count": 8,
     "metadata": {},
     "output_type": "execute_result"
    },
    {
     "data": {
      "text/html": [
       "<details><summary><pre style=\"display:inline\"><small>Click here for additional output</small></pre></summary>\n",
       "<pre>\n",
       "polymake: used package nauty\n",
       "  Computation of automorphism groups of graphs.\n",
       "  Copyright by Brendan McKay and Adolfo Piperno.\n",
       "  http://pallini.di.uniroma1.it/\n",
       "</pre>\n",
       "</details>\n"
      ]
     },
     "metadata": {},
     "output_type": "display_data"
    }
   ],
   "source": [
    "$cross5=cross(5);\n",
    "print isomorphic($C,$cross5);\n",
    "print isomorphic($C->GRAPH->ADJACENCY,$cross5->GRAPH->ADJACENCY);"
   ]
  },
  {
   "cell_type": "markdown",
   "metadata": {},
   "source": [
    "\n",
    "\n",
    "    \n"
   ]
  },
  {
   "cell_type": "code",
   "execution_count": 9,
   "metadata": {},
   "outputs": [
    {
     "data": {
      "text/plain": [
       "0 0 0 5 5"
      ]
     },
     "execution_count": 9,
     "metadata": {},
     "output_type": "execute_result"
    }
   ],
   "source": [
    "print $cross5->F_VECTOR - $C->F_VECTOR;"
   ]
  },
  {
   "cell_type": "markdown",
   "metadata": {},
   "source": [
    "\n",
    "Look at two facets of the five-dimensional cross polytope and their positions in the dual graph.\n",
    "\n",
    "    \n"
   ]
  },
  {
   "cell_type": "code",
   "execution_count": 10,
   "metadata": {},
   "outputs": [
    {
     "data": {
      "text/plain": [
       "{0 2 5 7 8}{1 2 5 7 8}0:1 2 4 8 16\n",
       "1:0 3 5 9 17\n",
       "2:0 3 6 10 18\n",
       "3:1 2 7 11 19\n",
       "4:0 5 6 12 20\n",
       "5:1 4 7 13 21\n",
       "6:2 4 7 14 22\n",
       "7:3 5 6 15 23\n",
       "8:0 9 10 12 24\n",
       "9:1 8 11 13 25\n",
       "10:2 8 11 14 26\n",
       "11:3 9 10 15 27\n",
       "12:4 8 13 14 28\n",
       "13:5 9 12 15 29\n",
       "14:6 10 12 15 30\n",
       "15:7 11 13 14 31\n",
       "16:0 17 18 20 24\n",
       "17:1 16 19 21 25\n",
       "18:2 16 19 22 26\n",
       "19:3 17 18 23 27\n",
       "20:4 16 21 22 28\n",
       "21:5 17 20 23 29\n",
       "22:6 18 20 23 30\n",
       "23:7 19 21 22 31\n",
       "24:8 16 25 26 28\n",
       "25:9 17 24 27 29\n",
       "26:10 18 24 27 30\n",
       "27:11 19 25 26 31\n",
       "28:12 20 24 29 30\n",
       "29:13 21 25 28 31\n",
       "30:14 22 26 28 31\n",
       "31:15 23 27 29 30\n"
      ]
     },
     "execution_count": 10,
     "metadata": {},
     "output_type": "execute_result"
    }
   ],
   "source": [
    "print $cross5->VERTICES_IN_FACETS->[12];\n",
    "print $cross5->VERTICES_IN_FACETS->[13];\n",
    "print rows_labeled($cross5->DUAL_GRAPH->ADJACENCY);"
   ]
  },
  {
   "cell_type": "markdown",
   "metadata": {},
   "source": [
    "\n",
    "\n",
    "Now we construct a new graph by manipulating the dual graph of the cross polytope by contracting a perfect matching.\n",
    "\n",
    "    \n"
   ]
  },
  {
   "cell_type": "code",
   "execution_count": 11,
   "metadata": {},
   "outputs": [],
   "source": [
    "$g=new GraphAdjacency($cross5->DUAL_GRAPH->ADJACENCY);\n",
    "$g->contract_edge(12,13);\n",
    "$g->contract_edge(24,26);\n",
    "$g->contract_edge(17,21);\n",
    "$g->contract_edge(3,11);\n",
    "$g->contract_edge(6,22);\n",
    "$g->squeeze;"
   ]
  },
  {
   "cell_type": "markdown",
   "metadata": {},
   "source": [
    "\n",
    "The last command renumbers the nodes sequentially, starting from 0.  This is necessary to render the graph a valid object.\n",
    "\n",
    "    \n"
   ]
  },
  {
   "cell_type": "code",
   "execution_count": 12,
   "metadata": {},
   "outputs": [
    {
     "data": {
      "text/plain": [
       "true"
      ]
     },
     "execution_count": 12,
     "metadata": {},
     "output_type": "execute_result"
    }
   ],
   "source": [
    "print isomorphic($C->DUAL_GRAPH->ADJACENCY,$g);"
   ]
  },
  {
   "cell_type": "markdown",
   "metadata": {},
   "source": [
    "\n",
    "This finally reveals the combinatorial structure: The cone *C* is a cone over a 5-polytope which can be obtained from the 5-dimensional cross polytope by straightening five pairs of adjacent (simplex) facets into bipyramids over 3-simplices.\n"
   ]
  }
 ],
 "metadata": {
  "kernelspec": {
   "display_name": "polymake-4.6",
   "language": "polymake",
   "name": "polymake"
  },
  "language_info": {
   "codemirror_mode": "perl",
   "file_extension": ".pl",
   "mimetype": "text/x-polymake",
   "name": "polymake"
  }
 },
 "nbformat": 4,
 "nbformat_minor": 2
}
